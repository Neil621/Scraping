{
 "cells": [
  {
   "cell_type": "code",
   "execution_count": 1,
   "metadata": {},
   "outputs": [
    {
     "name": "stderr",
     "output_type": "stream",
     "text": [
      "C:\\Users\\neil.watt\\AppData\\Local\\Continuum\\anaconda3\\lib\\site-packages\\bs4\\__init__.py:181: UserWarning: No parser was explicitly specified, so I'm using the best available HTML parser for this system (\"lxml\"). This usually isn't a problem, but if you run this code on another system, or in a different virtual environment, it may use a different parser and behave differently.\n",
      "\n",
      "The code that caused this warning is on line 193 of the file C:\\Users\\neil.watt\\AppData\\Local\\Continuum\\anaconda3\\lib\\runpy.py. To get rid of this warning, change code that looks like this:\n",
      "\n",
      " BeautifulSoup(YOUR_MARKUP})\n",
      "\n",
      "to this:\n",
      "\n",
      " BeautifulSoup(YOUR_MARKUP, \"lxml\")\n",
      "\n",
      "  markup_type=markup_type))\n"
     ]
    }
   ],
   "source": [
    "#https://energyanalyst.co.uk/downloading-prices-from-the-web-in-python-and-saving-to-a-text-file/\n",
    "\n",
    "from bs4 import BeautifulSoup\n",
    "#from BeautifulSoup import BeautifulSoup\n",
    "import re, time\n",
    "#import urllib2\n",
    "from urllib.request import urlopen\n",
    "start = time.time()\n",
    "# Find Bloomberg Brent Price\n",
    "#rawBloomData = urllib2.urlopen('http://www.bloomberg.com/energy/').read()\n",
    "#rawBloomData = urlopen('http://www.bloomberg.com/energy/').read()\n",
    "#BloomSoup = BeautifulSoup(rawBloomData)\n",
    "#BloomSoup\n",
    "#brent = BloomSoup.findAll('tr')[0]\n",
    "#brent\n",
    "#BloomPrice = float(re.search(re.compile (r'\\d+\\.\\d*'),str(brent.contents)).group())\n",
    "\n",
    "# Find FT Brent Price\n",
    "rawFTData = urlopen('https://markets.ft.com/tearsheets/performance.asp?s=1054972').read()\n",
    "FTsoup = BeautifulSoup(rawFTData)\n",
    "FT = FTsoup.findAll('tr')[0]\n",
    "FTPrice = float(re.search(re.compile (r'\\d+\\.\\d*'),str(FT)).group())\n",
    "\n",
    "\n",
    "# Find BBC Brent Price\n",
    "rawBBCData = urlopen('http://www.bbc.co.uk/news/business/market_data/commodities/default.stm').read()\n",
    "BBCSoup = BeautifulSoup(rawBBCData)\n",
    "oyell = BBCSoup.findAll('tr')[1]\n",
    "BBCPrice = float(re.search(re.compile (r'\\d+\\.\\d*'),str(oyell)).group())"
   ]
  },
  {
   "cell_type": "code",
   "execution_count": 3,
   "metadata": {},
   "outputs": [
    {
     "ename": "SyntaxError",
     "evalue": "Missing parentheses in call to 'print'. Did you mean print(” ”)? (<ipython-input-3-82dc2c2a2bca>, line 2)",
     "output_type": "error",
     "traceback": [
      "\u001b[1;36m  File \u001b[1;32m\"<ipython-input-3-82dc2c2a2bca>\"\u001b[1;36m, line \u001b[1;32m2\u001b[0m\n\u001b[1;33m    print ” ”\u001b[0m\n\u001b[1;37m          ^\u001b[0m\n\u001b[1;31mSyntaxError\u001b[0m\u001b[1;31m:\u001b[0m Missing parentheses in call to 'print'. Did you mean print(” ”)?\n"
     ]
    }
   ],
   "source": [
    "# Compile for display\n",
    "print ” ”\n",
    "print ” Brent Crude ($/Brl)”\n",
    "print ” ————————”\n",
    "print ” Bloomberg : %.2f” %(BloomPrice)\n",
    "print ” Financial Times : %.2f” %(FTPrice)\n",
    "print ” BBC : %.2f” %(BBCPrice)\n",
    "print ” ————————”\n",
    "print ” Average : %.2f” %((BloomPrice+FTPrice+BBCPrice)/3)\n",
    "print ” ————————”\n",
    "print ” ”\n",
    "# Write to files\n",
    "OutputPath = “C:\\\\Test\\\\”\n",
    "open(OutputPath+”Bloomberg.txt”,”wb”).write(“%.2f” %(BloomPrice))\n",
    "open(OutputPath+”FT.txt”,”wb”).write(“%.2f” %(FTPrice))\n",
    "open(OutputPath+”BBC.txt”,”wb”).write(“%.2f” %(BBCPrice))\n",
    "open(OutputPath+”Average.txt”,”wb”).write(“%.2f” %((BloomPrice+FTPrice+BBCPrice)/3))\n",
    "print “\\n”\n",
    "time.sleep(10)"
   ]
  }
 ],
 "metadata": {
  "kernelspec": {
   "display_name": "Python 3",
   "language": "python",
   "name": "python3"
  },
  "language_info": {
   "codemirror_mode": {
    "name": "ipython",
    "version": 3
   },
   "file_extension": ".py",
   "mimetype": "text/x-python",
   "name": "python",
   "nbconvert_exporter": "python",
   "pygments_lexer": "ipython3",
   "version": "3.6.5"
  }
 },
 "nbformat": 4,
 "nbformat_minor": 2
}
